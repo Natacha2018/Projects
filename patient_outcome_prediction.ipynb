{
 "cells": [
  {
   "cell_type": "code",
   "execution_count": null,
   "metadata": {},
   "outputs": [],
   "source": [
    "import yt_dlp\n",
    "\n",
    "def download_audio(url, output_path=\".\", file_name=\"bird_sounds\"): #Change filename to desired name here\n",
    "    ydl_opts = {\n",
    "        'format': 'bestaudio/best',  # Select the best available audio quality\n",
    "        'outtmpl': f\"{output_path}/{file_name}\",  # Output file name and path\n",
    "        'postprocessors': [{\n",
    "            'key': 'FFmpegExtractAudio',  #Extract audio using ffmpeg\n",
    "            'preferredcodec': 'mp3',  #Convert to mp3\n",
    "            'preferredquality': '192',  #Quality of the mp3 file (192kbps)\n",
    "        }],\n",
    "    }\n",
    "\n",
    "    try:\n",
    "        #Download and convert video to mp3\n",
    "        with yt_dlp.YoutubeDL(ydl_opts) as ydl:\n",
    "            print(f\"Downloading and converting {url} to mp3...\")\n",
    "            ydl.download([url])\n",
    "            print(f\"Download complete. File saved as {output_path}/{file_name}\")\n",
    "    except Exception as e:\n",
    "        print(f\"An error occurred: {e}\")\n",
    "\n",
    "# Example usage\n",
    "url = '...' #url link \n",
    "download_audio(url)\n"
   ]
  }
 ],
 "metadata": {
  "language_info": {
   "name": "python"
  }
 },
 "nbformat": 4,
 "nbformat_minor": 2
}
