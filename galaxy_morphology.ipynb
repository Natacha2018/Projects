{
 "cells": [
  {
   "cell_type": "code",
   "execution_count": null,
   "metadata": {},
   "outputs": [],
   "source": [
    "%matplotlib inline\n",
    "# Basic numerical package\n",
    "import numpy as np\n",
    "import pandas as pd\n",
    "from astropy.io import fits\n",
    "\n",
    "# Graphical packages\n",
    "import matplotlib.pyplot as plt\n",
    "import seaborn as sns\n",
    "from pandas.plotting import scatter_matrix\n",
    "from astropy.table import Table\n",
    "\n",
    "# Package for unsupervised learning\n",
    "from sklearn.preprocessing import StandardScaler\n",
    "from sklearn.decomposition import PCA\n",
    "import umap\n",
    "from sklearn.manifold import TSNE\n",
    "from sklearn.cluster import KMeans, DBSCAN\n",
    "from sklearn import metrics\n",
    "from sklearn.cluster import OPTICS\n",
    "\n",
    "# warning\n",
    "import warnings\n",
    "\n",
    "warnings.filterwarnings(\"ignore\")\n",
    "\n",
    "# some settings for the notebook\n",
    "plt.rcParams.update({\"font.size\": 12})\n",
    "pd.set_option(\"display.max_columns\", 600)\n",
    "sns.set_theme(style=\"whitegrid\", font_scale=1.5, context=\"paper\")\n"
   ]
  },
  {
   "cell_type": "code",
   "execution_count": null,
   "metadata": {},
   "outputs": [],
   "source": [
    "# Fancy figures\n",
    "%matplotlib inline\n",
    "%config InlineBackend.figure_format = 'retina'"
   ]
  },
  {
   "cell_type": "markdown",
   "metadata": {},
   "source": [
    "### Data Inspection and Cleaning"
   ]
  },
  {
   "cell_type": "code",
   "execution_count": null,
   "metadata": {},
   "outputs": [],
   "source": [
    "#Importing the relevant data\n",
    "sdss = Table.read('SDSS17Pipe3D_v3_1_1.fits')\n",
    "df = sdss.to_pandas()\n",
    "df\n",
    "# df.columns #To view the table"
   ]
  },
  {
   "cell_type": "code",
   "execution_count": null,
   "metadata": {},
   "outputs": [],
   "source": [
    "#Printing column names\n",
    "for col in df.columns:\n",
    "    print(\"'\" + col + \"',\")\n",
    "#column = np.loadtxt(\"columns.txt\", dtype='str')\n",
    "\n",
    "#Keeping relevant columns\n",
    "col = ['R50_kpc_V', 'R50_kpc_Mass', 'u_band_mag', 'g_band_mag', 'r_band_mag', 'B_band_mag', 'V_band_mag', 'B-V', 'B-R','u-g', 'g-r', 'r-i', 'i-z', 'C', 'R90','R50',\n",
    "       'Re_kpc', 'vel_sigma_Re', 'RJ_band_mag', 'best_type_n']"
   ]
  },
  {
   "cell_type": "code",
   "execution_count": null,
   "metadata": {},
   "outputs": [],
   "source": [
    "#Cleaning the data\n",
    "\n",
    "#Dropping nans\n",
    "df = df[col]\n",
    "df = df.dropna()\n",
    "\n",
    "#Checking for duplicates \n",
    "duplicates = df.duplicated()\n",
    "for i in duplicates:\n",
    "    if i==True:\n",
    "        print('Duplicate rows:',i)\n",
    "print(df[duplicates])"
   ]
  },
  {
   "cell_type": "code",
   "execution_count": null,
   "metadata": {},
   "outputs": [],
   "source": [
    "#Looking at column counts, mean, std, etc...\n",
    "df.describe()"
   ]
  },
  {
   "cell_type": "code",
   "execution_count": null,
   "metadata": {},
   "outputs": [],
   "source": [
    "#Creating a scatter matrix of interested features\n",
    "#for relationshiop overview\n",
    "test = df.iloc[:, -1]\n",
    "features = df.iloc[:, :-1]\n",
    "\n",
    "matrix = scatter_matrix(features, figsize=(16, 16), diagonal='kde')\n",
    "\n",
    "#Rotating the labels of the data columns\n",
    "for ax in matrix.ravel():\n",
    "    ax.set_xlabel(ax.get_xlabel(), rotation=45)\n",
    "    ax.set_ylabel(ax.get_ylabel(), rotation=60)\n",
    "\n",
    "# plt.tight_layout()\n",
    "plt.show()"
   ]
  },
  {
   "cell_type": "code",
   "execution_count": null,
   "metadata": {},
   "outputs": [],
   "source": [
    "#Scaling the data for easier manipulation\n",
    "df_test = df.iloc[:, -1]\n",
    "df_features = df.iloc[:, :-1]\n",
    "\n",
    "scaler = StandardScaler()\n",
    "scaler.fit(df_features)\n",
    "\n",
    "scaled_data = scaler.transform(df_features)\n",
    "print(\"Scaled Data:\\n\", scaled_data)\n",
    "\n",
    "#Converting back to df\n",
    "df_scaled = pd.DataFrame(scaled_data, columns=df_features.columns)\n",
    "\n",
    "print(df_scaled)"
   ]
  },
  {
   "cell_type": "code",
   "execution_count": null,
   "metadata": {},
   "outputs": [],
   "source": [
    "#Plotting a correlation matrix to check on feature correlations\n",
    "df_mat = df_scaled.apply(pd.to_numeric, errors='coerce')\n",
    "matrix = df_mat.corr(min_periods=1)\n",
    "plt.imshow(matrix, cmap='Blues')\n",
    "plt.colorbar()\n",
    "\n",
    "#Extracting variable names \n",
    "variables = []\n",
    "for i in matrix.columns:\n",
    "    variables.append(i)\n",
    "\n",
    "plt.xticks(range(len(matrix)), variables, rotation=45, ha='right')\n",
    "plt.yticks(range(len(matrix)), variables)\n",
    "plt.show()"
   ]
  },
  {
   "cell_type": "markdown",
   "metadata": {},
   "source": [
    "### Dimensionality Reduction"
   ]
  },
  {
   "cell_type": "code",
   "execution_count": null,
   "metadata": {},
   "outputs": [],
   "source": [
    "#PCA DR\n",
    "pca = PCA(n_components=3, svd_solver='auto')\n",
    "X_pca = pca.fit_transform(df_scaled)\n",
    "print(pca.get_feature_names_out())\n",
    "\n",
    "#Plotting the results in 3D\n",
    "fig,ax = plt.subplots(1,1, figsize=(10, 8))\n",
    "ax = fig.add_subplot(projection='3d')\n",
    "\n",
    "scatter = ax.scatter(X_pca[:, 0], X_pca[:, 1], X_pca[:,2], c=df_test, s = 0.5, alpha=0.5)\n",
    "plt.colorbar(scatter, ax=ax)\n",
    "ax.set_xlabel('Principal Component 1')\n",
    "ax.set_ylabel('Principal Component 2')\n",
    "ax.set_zlabel('Principal Component 3')\n",
    "plt.title('3D PCA of Galaxy Data')\n",
    "plt.show()"
   ]
  },
  {
   "cell_type": "code",
   "execution_count": null,
   "metadata": {},
   "outputs": [],
   "source": [
    "# t-SNE DR\n",
    "tsne = TSNE(n_components=2, perplexity=50, learning_rate=800)\n",
    "X_tsne = tsne.fit_transform(df_scaled)\n",
    "\n",
    "\n",
    "#Plotting\n",
    "fig,ax = plt.subplots(1,1, figsize=(10, 8))\n",
    "\n",
    "scatter = ax.scatter(X_tsne[:, 0], X_tsne[:, 1], c=df_test, s=1, alpha=0.5)\n",
    "plt.colorbar(scatter, ax=ax)\n",
    "plt.xlabel('t-SNE Component 1')\n",
    "plt.ylabel('t-SNE Component 2')\n",
    "plt.title('2D tSNE of Galaxy Data')\n",
    "\n",
    "plt.show()"
   ]
  },
  {
   "cell_type": "code",
   "execution_count": null,
   "metadata": {},
   "outputs": [],
   "source": [
    "# t-SNE DR : lower perplexity\n",
    "tsne2 = TSNE(n_components=2, perplexity=20, learning_rate=800)\n",
    "X_tsne2 = tsne2.fit_transform(df_scaled)\n",
    "\n",
    "\n",
    "#Plotting\n",
    "fig,ax = plt.subplots(1,1, figsize=(10, 8))\n",
    "\n",
    "scatter = ax.scatter(X_tsne2[:, 0], X_tsne2[:, 1], c=df_test, s=1, alpha=0.5)\n",
    "plt.colorbar(scatter, ax=ax)\n",
    "plt.xlabel('t-SNE Component 1')\n",
    "plt.ylabel('t-SNE Component 2')\n",
    "plt.title('2D tSNE of Galaxy Data')\n",
    "\n",
    "plt.show()"
   ]
  },
  {
   "cell_type": "code",
   "execution_count": null,
   "metadata": {},
   "outputs": [],
   "source": [
    "#UMAP DR\n",
    "umap_model = umap.UMAP(n_components=3)\n",
    "X_umap = umap_model.fit_transform(df_scaled)\n",
    "\n",
    "#Plotting\n",
    "fig,ax = plt.subplots(1,1, figsize=(10, 8))\n",
    "ax = fig.add_subplot(projection='3d')\n",
    "\n",
    "scatter2 = ax.scatter(X_umap[:, 0], X_umap[:, 1], X_umap[:, 2], c=df_test, cmap='viridis', s=1, alpha=0.5)\n",
    "plt.colorbar(scatter2, ax=ax)\n",
    "plt.title('UMAP projection of the dataset')\n",
    "ax.set_xlabel('UMAP Component 1')\n",
    "ax.set_ylabel('UMAP Component 2')\n",
    "ax.set_zlabel('UMAP Component 3')\n",
    "plt.show()"
   ]
  },
  {
   "cell_type": "markdown",
   "metadata": {},
   "source": [
    "### Clustering"
   ]
  },
  {
   "cell_type": "code",
   "execution_count": null,
   "metadata": {},
   "outputs": [],
   "source": [
    "#Kmeans on PCA clustering\n",
    "kmeans = KMeans(n_clusters=10)\n",
    "clusters = kmeans.fit_predict(X_pca)\n",
    "\n",
    "#Plotting in 3D\n",
    "fig,ax = plt.subplots(1,1, figsize=(10, 8))\n",
    "ax = fig.add_subplot(projection='3d')\n",
    "scatter = ax.scatter(X_pca[:, 0], X_pca[:, 1],  X_pca[:,2], c=clusters, cmap='viridis', marker='o', edgecolor='k', s=10)\n",
    "scatter2 = ax.scatter(kmeans.cluster_centers_[:, 0], kmeans.cluster_centers_[:, 1], s=10, c='red', marker='X')\n",
    "plt.colorbar(scatter, ax=ax)\n",
    "ax.set_xlabel('PCA Component 1')\n",
    "ax.set_ylabel('PCA Component 2')\n",
    "ax.set_zlabel('PCA Component 3')\n",
    "plt.title('KMeans Clusters after PCA')\n",
    "plt.show()"
   ]
  },
  {
   "cell_type": "code",
   "execution_count": null,
   "metadata": {},
   "outputs": [],
   "source": [
    "#Kmeans on tSNE\n",
    "kmeans2 = KMeans(n_clusters=10)\n",
    "clusters2 = kmeans2.fit_predict(X_tsne)\n",
    "\n",
    "#Plotting\n",
    "plt.figure(figsize=(10, 6))\n",
    "scat = plt.scatter(X_tsne[:, 0], X_tsne[:, 1], c=clusters2, cmap='viridis', marker='o', edgecolor='k', s=10)\n",
    "plt.scatter(kmeans2.cluster_centers_[:, 0], kmeans2.cluster_centers_[:, 1], s=10, c='red', marker='X')\n",
    "plt.colorbar(scat)\n",
    "plt.title('KMeans Clusters after t-SNE perplexity=50')\n",
    "plt.xlabel('t-SNE Component 1')\n",
    "plt.ylabel('t-SNE  Component 2')\n",
    "plt.show()"
   ]
  },
  {
   "cell_type": "code",
   "execution_count": null,
   "metadata": {},
   "outputs": [],
   "source": [
    "#Kmeans on tSNE (lower perplexity)\n",
    "kmeans3 = KMeans(n_clusters=10)\n",
    "clusters3 = kmeans3.fit_predict(X_tsne2)\n",
    "\n",
    "#Plotting\n",
    "plt.figure(figsize=(10, 6))\n",
    "scat2 = plt.scatter(X_tsne2[:, 0], X_tsne2[:, 1], c=clusters3, cmap='viridis', marker='o', edgecolor='k', s=10)\n",
    "plt.scatter(kmeans3.cluster_centers_[:, 0], kmeans3.cluster_centers_[:, 1], s=10, c='red', marker='X')\n",
    "plt.colorbar(scat2)\n",
    "plt.title('KMeans Clusters after t-SNE perplexity=20')\n",
    "plt.xlabel('t-SNE  Component 1')\n",
    "plt.ylabel('t-SNE  Component 2')\n",
    "plt.show()"
   ]
  },
  {
   "cell_type": "code",
   "execution_count": null,
   "metadata": {},
   "outputs": [],
   "source": [
    "#KMeans on UMAP\n",
    "kmeans4 = KMeans(n_clusters=10)\n",
    "clusters4 = kmeans4.fit_predict(X_umap)\n",
    "\n",
    "#Plotting in 3D\n",
    "fig,ax = plt.subplots(1,1, figsize=(10, 8))\n",
    "ax = fig.add_subplot(projection='3d')\n",
    "\n",
    "scatter4 = ax.scatter(X_umap[:, 0], X_umap[:, 1],  X_umap[:,2], c=clusters4, cmap='viridis', marker='o', edgecolor='k', s=10)\n",
    "scatter5 = ax.scatter(kmeans4.cluster_centers_[:, 0], kmeans4.cluster_centers_[:, 1], s=10, c='red', marker='X')\n",
    "plt.colorbar(scatter4, ax=ax)\n",
    "ax.set_xlabel('PCA Component 1')\n",
    "ax.set_ylabel('PCA Component 2')\n",
    "ax.set_zlabel('PCA Component 3')\n",
    "plt.title('KMeans Clusters after UMAP')\n",
    "plt.show()"
   ]
  },
  {
   "cell_type": "code",
   "execution_count": null,
   "metadata": {},
   "outputs": [],
   "source": [
    "#DBSCAN on PCA\n",
    "dbs = DBSCAN(min_samples=2, eps=0.3)\n",
    "clust = dbs.fit_predict(X_pca)\n",
    "\n",
    "#Plotting in 3D\n",
    "fig,ax = plt.subplots(1,1, figsize=(10, 8))\n",
    "ax = fig.add_subplot(projection='3d')\n",
    "\n",
    "scatter = ax.scatter(X_pca[:, 0], X_pca[:, 1],  X_pca[:,2], c=clust, cmap='viridis', marker='o', edgecolor='k', s=10)\n",
    "plt.colorbar(scatter, ax=ax)\n",
    "ax.set_xlabel('PCA Component 1')\n",
    "ax.set_ylabel('PCA Component 2')\n",
    "ax.set_zlabel('PCA Component 3')\n",
    "plt.title('DBSCAN Clusters after PCA')\n",
    "plt.show()"
   ]
  },
  {
   "cell_type": "code",
   "execution_count": null,
   "metadata": {},
   "outputs": [],
   "source": [
    "#DBSCAN on tSNE\n",
    "dbs2 = DBSCAN(min_samples=2, eps=0.3)\n",
    "clust2 = dbs2.fit_predict(X_tsne)\n",
    "\n",
    "#Plotting\n",
    "plt.figure(figsize=(10, 6))\n",
    "\n",
    "scat3 = plt.scatter(X_tsne[:, 0], X_tsne[:, 1], c=clust2, cmap='viridis', marker='o', edgecolor='k', s=10)\n",
    "plt.colorbar(scat3)\n",
    "plt.xlabel('t-SNE Component 1')\n",
    "plt.ylabel('t-SNE Component 2')\n",
    "plt.title('DBSCAN Clusters after t-SNE perplexity=50')\n",
    "plt.show()\n"
   ]
  },
  {
   "cell_type": "code",
   "execution_count": null,
   "metadata": {},
   "outputs": [],
   "source": [
    "#DBSCAN on tSNE (lower perplexity)\n",
    "dbs3 = DBSCAN(min_samples=2, eps=0.3)\n",
    "clust3 = dbs3.fit_predict(X_tsne2)\n",
    "\n",
    "#Plotting\n",
    "plt.figure(figsize=(10, 6))\n",
    "\n",
    "scat4 = plt.scatter(X_tsne2[:, 0], X_tsne2[:, 1], c=clust3, cmap='viridis', marker='o', edgecolor='k', s=10)\n",
    "plt.colorbar(scat4)\n",
    "plt.xlabel('t-SNE Component 1')\n",
    "plt.ylabel('t-SNE Component 2')\n",
    "plt.title('DBSCAN Clusters after t-SNE perplexity=20')\n",
    "plt.show()\n"
   ]
  },
  {
   "cell_type": "code",
   "execution_count": null,
   "metadata": {},
   "outputs": [],
   "source": [
    "#DBSCAN on UMAP\n",
    "dbs4 = DBSCAN(min_samples=2, eps=0.3)\n",
    "clust4 = dbs4.fit_predict(X_umap)\n",
    "\n",
    "#Plotting in 3D\n",
    "fig,ax = plt.subplots(1,1, figsize=(10, 8))\n",
    "ax = fig.add_subplot(projection='3d')\n",
    "\n",
    "scat5 = ax.scatter(X_umap[:, 0], X_umap[:, 1],  X_umap[:,2], c=clust4, cmap='viridis', marker='o', edgecolor='k', s=10)\n",
    "plt.colorbar(scat5, ax=ax)\n",
    "ax.set_xlabel('PCA Component 1')\n",
    "ax.set_ylabel('PCA Component 2')\n",
    "ax.set_zlabel('PCA Component 3')\n",
    "plt.title('DBSCAN Clusters after PCA')\n",
    "plt.show()"
   ]
  },
  {
   "cell_type": "markdown",
   "metadata": {},
   "source": [
    "### Performance"
   ]
  },
  {
   "cell_type": "code",
   "execution_count": null,
   "metadata": {},
   "outputs": [],
   "source": [
    "from sklearn.metrics import homogeneity_score, completeness_score, silhouette_score\n",
    "from collections import Counter\n",
    "\n",
    "#Performance PCA\n",
    "homogeneity = homogeneity_score(df_test, clusters)\n",
    "completeness = completeness_score(df_test, clusters)\n",
    "silhouette = silhouette_score(X_pca, clusters)\n",
    "\n",
    "print(f'Homogeneity Score Kmeans on PCA: {homogeneity}')\n",
    "print(f'Completeness Score Kmeans on PCA: {completeness}')\n",
    "print(f'Silhouette Score Kmeans on PCA: {silhouette}')\n",
    "\n",
    "# Determine contaminants in each cluster\n",
    "contaminants = {}\n",
    "for cluster_id in np.unique(clusters):\n",
    "    if cluster_id == -1:  \n",
    "        continue\n",
    "    cluster_points = df_test[clusters == cluster_id]\n",
    "    most_common_class, count = Counter(cluster_points).most_common(1)[0]\n",
    "    contaminants[cluster_id] = len(cluster_points) - count\n",
    "\n",
    "print(f'Contaminants in each cluster for Kmeans on PCA: {contaminants}')"
   ]
  },
  {
   "cell_type": "code",
   "execution_count": null,
   "metadata": {},
   "outputs": [],
   "source": [
    "#Performance DBSCAN\n",
    "homogeneity = homogeneity_score(df_test, clust)\n",
    "completeness = completeness_score(df_test, clust)\n",
    "silhouette = silhouette_score(X_pca, clust)\n",
    "\n",
    "print(f'Homogeneity Score DBSCAN on PCA: {homogeneity}')\n",
    "print(f'Completeness Score DBSCAN on PCA: {completeness}')\n",
    "print(f'Silhouette Score DBSCAN on PCA: {silhouette}')\n",
    "\n",
    "#Contaminants in each cluster\n",
    "contaminants = {}\n",
    "for cluster_id in np.unique(clust):\n",
    "    if cluster_id == -1:  \n",
    "        continue\n",
    "    cluster_points = df_test[clust == cluster_id]\n",
    "    most_common_class, count = Counter(cluster_points).most_common(1)[0]\n",
    "    contaminants[cluster_id] = len(cluster_points) - count\n",
    "\n",
    "print(f'Contaminants in each cluster for DBSCAN on PCA: {contaminants}')"
   ]
  }
 ],
 "metadata": {
  "language_info": {
   "name": "python"
  }
 },
 "nbformat": 4,
 "nbformat_minor": 2
}
